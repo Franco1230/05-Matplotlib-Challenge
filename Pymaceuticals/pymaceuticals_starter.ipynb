{
 "cells": [
  {
   "cell_type": "code",
   "execution_count": null,
   "source": [],
   "outputs": [],
   "metadata": {}
  },
  {
   "cell_type": "markdown",
   "source": [
    "## Observations and Insights "
   ],
   "metadata": {}
  },
  {
   "cell_type": "markdown",
   "source": [],
   "metadata": {}
  },
  {
   "cell_type": "code",
   "execution_count": null,
   "source": [
    "# Dependencies and Setup\r\n",
    "import matplotlib.pyplot as plt\r\n",
    "import pandas as pd\r\n",
    "import scipy.stats as st\r\n",
    "import numpy as np\r\n",
    "from scipy.stats import linregress\r\n",
    "\r\n",
    "# Study data files\r\n",
    "mouse_metadata_path = \"data/Mouse_metadata.csv\"\r\n",
    "study_results_path = \"data/Study_results.csv\"\r\n",
    "\r\n",
    "# Read the mouse data and the study results\r\n",
    "mouse_metadata = pd.read_csv(mouse_metadata_path)\r\n",
    "study_results = pd.read_csv(study_results_path)\r\n",
    "\r\n",
    "# Combine the data into a single dataset\r\n",
    "combined_data_df = pd.merge(mouse_metadata, study_results, how = \"outer\", on = \"Mouse ID\")\r\n",
    "\r\n",
    "# Display the data table for preview\r\n",
    "combined_data_df.head()"
   ],
   "outputs": [],
   "metadata": {}
  },
  {
   "cell_type": "code",
   "execution_count": null,
   "source": [
    "combined_data_df.info()"
   ],
   "outputs": [],
   "metadata": {}
  },
  {
   "cell_type": "code",
   "execution_count": null,
   "source": [
    "# Checking the number of mice.\r\n",
    "number_of_mice = combined_data_df[\"Mouse ID\"].nunique()\r\n",
    "number_of_mice"
   ],
   "outputs": [],
   "metadata": {}
  },
  {
   "cell_type": "code",
   "execution_count": null,
   "source": [
    "# Getting the duplicate mice by ID number that shows up for Mouse ID and Timepoint. \r\n",
    "duplicate_mice = combined_data_df.loc[combined_data_df.duplicated([\"Mouse ID\", \"Timepoint\",]),\"Mouse ID\"].unique()\r\n",
    "duplicate_mice"
   ],
   "outputs": [],
   "metadata": {}
  },
  {
   "cell_type": "code",
   "execution_count": null,
   "source": [
    "# Optional: Get all the data for the duplicate mouse ID. \r\n",
    "duplicate_mice_df = combined_data_df.loc[combined_data_df[\"Mouse ID\"] == \"g989\"]\r\n",
    "duplicate_mice_df"
   ],
   "outputs": [],
   "metadata": {}
  },
  {
   "cell_type": "code",
   "execution_count": null,
   "source": [
    "# Create a clean DataFrame by dropping the duplicate mouse by its ID.\r\n",
    "cleaned_combined_data_df = combined_data_df[combined_data_df[\"Mouse ID\"].isin(duplicate_mice) == False]\r\n",
    "cleaned_combined_data_df"
   ],
   "outputs": [],
   "metadata": {}
  },
  {
   "cell_type": "code",
   "execution_count": null,
   "source": [
    "# Checking the number of mice in the clean DataFrame.\r\n",
    "mice_count = cleaned_combined_data_df[\"Mouse ID\"].nunique()\r\n",
    "mice_count"
   ],
   "outputs": [],
   "metadata": {}
  },
  {
   "cell_type": "markdown",
   "source": [
    "## Summary Statistics"
   ],
   "metadata": {}
  },
  {
   "cell_type": "code",
   "execution_count": null,
   "source": [
    "# Generate a summary statistics table of mean, median, variance, standard deviation, and SEM of the tumor volume for each regimen\r\n",
    "# This method is the most straighforward, creating multiple series and putting them all together at the end.\r\n",
    "\r\n",
    "# Extracting mean for the mean of each regimen\r\n",
    "tumor_volume_mean = cleaned_combined_data_df.groupby('Drug Regimen').mean()[\"Tumor Volume (mm3)\"]\r\n",
    "\r\n",
    "# Extracting median for the mean of each regimen\r\n",
    "tumor_volume_med = cleaned_combined_data_df.groupby('Drug Regimen').median()[\"Tumor Volume (mm3)\"]\r\n",
    "\r\n",
    "# Extracting variance for the mean of each regimen\r\n",
    "tumor_volume_var = cleaned_combined_data_df.groupby('Drug Regimen').var()[\"Tumor Volume (mm3)\"]\r\n",
    "\r\n",
    "# Extracting standard deviation for the mean of each regimen\r\n",
    "tumor_volume_std = cleaned_combined_data_df.groupby('Drug Regimen').std()[\"Tumor Volume (mm3)\"]\r\n",
    "\r\n",
    "# Extracting SEM for the mean of each regimen\r\n",
    "tumor_volume_sem = cleaned_combined_data_df.groupby('Drug Regimen').sem()[\"Tumor Volume (mm3)\"]\r\n",
    "\r\n",
    "# Create data frame for the summary\r\n",
    "statistic_summary1 = pd.DataFrame({\"Mean of Tumor Volume\": tumor_volume_mean,\r\n",
    "                                   \"Median of Tumor Volume\": tumor_volume_med,\r\n",
    "                                   \"Variance of Tumor Volume\": tumor_volume_var,\r\n",
    "                                   \"STD of Tumor Volume\": tumor_volume_std,\r\n",
    "                                   \"SEM of Tumor Volume\": tumor_volume_sem})\r\n",
    "\r\n",
    "# Display summary table\r\n",
    "statistic_summary1.round(2)"
   ],
   "outputs": [],
   "metadata": {}
  },
  {
   "cell_type": "code",
   "execution_count": null,
   "source": [
    "# Generate a summary statistics table of mean, median, variance, standard deviation, and SEM of the tumor volume for each regimen\r\n",
    "# This method produces everything in a single groupby function\r\n",
    "\r\n",
    "# Single group by function\r\n",
    "statistic_summary2 =  cleaned_combined_data_df.groupby([\"Drug Regimen\"])[[\"Tumor Volume (mm3)\"]].agg([\"mean\", \"median\", \"var\", \"std\", \"sem\"])\r\n",
    "\r\n",
    "# Display summary table\r\n",
    "statistic_summary2.round(2)"
   ],
   "outputs": [],
   "metadata": {}
  },
  {
   "cell_type": "markdown",
   "source": [
    "## Bar and Pie Charts"
   ],
   "metadata": {}
  },
  {
   "cell_type": "code",
   "execution_count": null,
   "source": [
    "# Generate a bar plot showing the total number of mice for each treatment throughout the course of the study using pandas. \r\n",
    "\r\n",
    "# Calculate the total number of mice per treatment for the graph\r\n",
    "mice_per_treat = cleaned_combined_data_df.groupby([\"Drug Regimen\"]).count()[\"Mouse ID\"]\r\n",
    "\r\n",
    "# Plot using pandas\r\n",
    "mice_per_treat.plot.bar(color = \"black\")\r\n",
    "plt.title(\"Total Number of Mice For Each Treatment\")\r\n",
    "plt.ylabel(\"Mice Per Time Point\")\r\n",
    "plt.xlabel(\"Drug Regimen\")\r\n",
    "plt.tight_layout()\r\n",
    "plt.show()"
   ],
   "outputs": [],
   "metadata": {}
  },
  {
   "cell_type": "code",
   "execution_count": null,
   "source": [
    "# Generate a bar plot showing the total number of mice for each treatment throughout the course of the study using pyplot.\r\n",
    "\r\n",
    "# Prepare x-axis\r\n",
    "drug_regimen = cleaned_combined_data_df[\"Drug Regimen\"].value_counts().index\r\n",
    "\r\n",
    "# Prepare y-axis\r\n",
    "mice_per_treat2 = cleaned_combined_data_df.groupby([\"Drug Regimen\"]).count()[\"Mouse ID\"].tolist()\r\n",
    "\r\n",
    "# Plot using pyplot\r\n",
    "plt.bar(drug_regimen, mice_per_treat, width = 0.5, color = \"purple\")\r\n",
    "plt.xticks(drug_regimen, rotation = 90)\r\n",
    "\r\n",
    "plt.title(\"Total Number of Mice For Each Treatment\")\r\n",
    "plt.ylabel(\"Mice Per Time Point\")\r\n",
    "plt.xlabel(\"Drug Regimen\")\r\n",
    "plt.tight_layout()\r\n",
    "plt.show()"
   ],
   "outputs": [],
   "metadata": {}
  },
  {
   "cell_type": "code",
   "execution_count": null,
   "source": [
    "# Generate a pie plot showing the distribution of female versus male mice using pandas\r\n",
    "\r\n",
    "# Getting data for counts of male and female\r\n",
    "grouped_gender  = pd.value_counts(cleaned_combined_data_df['Sex'])\r\n",
    "\r\n",
    "# Plot using pandas\r\n",
    "colors = [\"skyblue\", \"pink\"]\r\n",
    "explode  = (0.1, 0)\r\n",
    "pandas_plot = grouped_gender.plot.pie(startangle = 45,\r\n",
    "                                      colors = colors,\r\n",
    "                                      explode = explode,\r\n",
    "                                      shadow = True,\r\n",
    "                                      autopct = \"%1.2f%%\")\r\n",
    "plt.title(\"Male vs Female Mice Count\")\r\n",
    "plt.ylabel(\"Gender\")\r\n",
    "plt.tight_layout()\r\n",
    "plt.show()"
   ],
   "outputs": [],
   "metadata": {}
  },
  {
   "cell_type": "code",
   "execution_count": null,
   "source": [
    "# Generate a pie plot showing the distribution of female versus male mice using pyplot\r\n",
    "\r\n",
    "# Preparation for plotting\r\n",
    "grouped_gender2 = grouped_gender.tolist()\r\n",
    "colors = [\"purple\", \"orange\"]\r\n",
    "labels = [\"Male\", \"Female\"]\r\n",
    "plt.pie(grouped_gender2,\r\n",
    "        labels = labels,\r\n",
    "        startangle = 45,\r\n",
    "        colors = colors,\r\n",
    "        explode = explode,\r\n",
    "        shadow = True,\r\n",
    "        autopct = \"%1.2f%%\")\r\n",
    "plt.title(\"Male vs Female Mice Count\")\r\n",
    "plt.ylabel(\"Gender\")\r\n",
    "plt.tight_layout()\r\n",
    "plt.show()"
   ],
   "outputs": [],
   "metadata": {}
  },
  {
   "cell_type": "markdown",
   "source": [
    "## Quartiles, Outliers and Boxplots"
   ],
   "metadata": {}
  },
  {
   "cell_type": "code",
   "execution_count": null,
   "source": [
    "# Calculate the final tumor volume of each mouse across four of the treatment regimens:  \r\n",
    "# Capomulin, Ramicane, Infubinol, and Ceftamin\r\n",
    "\r\n",
    "# Start by getting the last (greatest) timepoint for each mouse\r\n",
    "capomulin_df = cleaned_combined_data_df.loc[combined_data_df[\"Drug Regimen\"] == \"Capomulin\"]\r\n",
    "capomulin_last = capomulin_df.groupby(\"Mouse ID\").max()[\"Timepoint\"]\r\n",
    "\r\n",
    "ramicane_df = cleaned_combined_data_df.loc[combined_data_df[\"Drug Regimen\"] == \"Ramicane\"]\r\n",
    "ramicane_last = ramicane_df.groupby(\"Mouse ID\").max()[\"Timepoint\"]\r\n",
    "\r\n",
    "iInfubinol_df = cleaned_combined_data_df.loc[combined_data_df[\"Drug Regimen\"] == \"Infubinol\"]\r\n",
    "iInfubinol_last = iInfubinol_df.groupby(\"Mouse ID\").max()[\"Timepoint\"]\r\n",
    "\r\n",
    "ceftamin_df = cleaned_combined_data_df.loc[combined_data_df[\"Drug Regimen\"] == \"Ceftamin\"]\r\n",
    "ceftamin_last = ceftamin_df.groupby(\"Mouse ID\").max()[\"Timepoint\"]\r\n",
    "\r\n",
    "# Merge this group df with the original dataframe to get the tumor volume at the last timepoint\r\n",
    "capomulin_vol = pd.DataFrame(capomulin_last)\r\n",
    "capomulin_merge = pd.merge(combined_data_df, capomulin_vol, on = (\"Mouse ID\", \"Timepoint\"))\r\n",
    "\r\n",
    "ramicane_vol = pd.DataFrame(ramicane_last)\r\n",
    "ramicane_merge = pd.merge(combined_data_df, ramicane_vol, on = (\"Mouse ID\", \"Timepoint\"))\r\n",
    "\r\n",
    "iInfubinol_vol = pd.DataFrame(iInfubinol_last)\r\n",
    "iInfubinol_merge = pd.merge(combined_data_df, iInfubinol_vol, on = (\"Mouse ID\", \"Timepoint\"))\r\n",
    "\r\n",
    "ceftamin_vol = pd.DataFrame(ceftamin_last)\r\n",
    "ceftamin_merge = pd.merge(combined_data_df, ceftamin_vol, on = (\"Mouse ID\", \"Timepoint\"))\r\n",
    "\r\n",
    "capomulin_df.head()"
   ],
   "outputs": [],
   "metadata": {
    "scrolled": true
   }
  },
  {
   "cell_type": "code",
   "execution_count": null,
   "source": [
    "# Put treatments into a list for for loop (and later for plot labels)\r\n",
    "treatment_list = [\"Capomulin\", \"Ramicane\", \"Infubinol\", \"Ceftamin\"]\r\n",
    "\r\n",
    "# Create empty list to fill with tumor vol data (for plotting)\r\n",
    "tumor_vol = []   "
   ],
   "outputs": [],
   "metadata": {
    "scrolled": false
   }
  },
  {
   "cell_type": "code",
   "execution_count": null,
   "source": [
    "# Calculate the IQR and quantitatively determine if there are any potential outliers\r\n",
    "    # Locate the rows which contain mice on each drug and get the tumor volumes\r\n",
    "    # add subset \r\n",
    "    # Determine outliers using upper and lower bounds\r\n",
    "selected_regimen = cleaned_combined_data_df[cleaned_combined_data_df[\"Drug Regimen\"].isin(treatment_list)]\r\n",
    "\r\n",
    "last_timepoint = selected_regimen.groupby([\"Drug Regimen\", \"Mouse ID\"]).agg(tumor_vol = (\"Tumor Volume (mm3)\", lambda x: x.iloc[-1]))\r\n",
    "last_timepoint = last_timepoint.stack(level=0).unstack(level=0)\r\n",
    "last_timepoint\r\n",
    "\r\n",
    "treatment = 0\r\n",
    "for drug in treatment_list:\r\n",
    "    quartiles = last_timepoint[drug].quantile([0.25, 0.5, 0.75]).round(2)\r\n",
    "    lowerq = quartiles[0.25].round(2)\r\n",
    "    upperq = quartiles[0.75].round(2)\r\n",
    "    iqr = round(upperq - lowerq,2)\r\n",
    "    lower_bound = round(lowerq - (1.5 * iqr), 2)\r\n",
    "    upper_bound = round(upperq + (1.5 * iqr), 2)\r\n",
    "    \r\n",
    "    if treatment == 0:\r\n",
    "        print(f\"~~~~~~~~~~~~~~~~~~~~~~~~~~~~~~~~~~~~~~~~~~~~~~~~~~~~~~~~~~~~\")\r\n",
    "    print(f\"The lower quartile of {drug} treatments is: {lowerq}\")\r\n",
    "    print(f\"The upper quartile of {drug} treatments is: {upperq}\")\r\n",
    "    print(f\"The interquartile range of {drug} treatments is: {iqr}\")\r\n",
    "    print(f\"Values below {lower_bound} could be {drug} outliers.\")\r\n",
    "    print(f\"Values above {upper_bound} could be {drug} outliers.\")\r\n",
    "    print(f\"~~~~~~~~~~~~~~~~~~~~~~~~~~~~~~~~~~~~~~~~~~~~~~~~~~~~~~~~~~~~\")\r\n",
    "    treatment += 1"
   ],
   "outputs": [],
   "metadata": {}
  },
  {
   "cell_type": "code",
   "execution_count": null,
   "source": [
    "# Generate a box plot of the final tumor volume of each mouse across four regimens of interest\r\n",
    "for row in treatment_list:\r\n",
    "    tumor_vol.append(list(last_timepoint[row].dropna()))\r\n",
    "    \r\n",
    "fig = plt.figure()\r\n",
    "plt.title(\"Tumor Volume at Mouse on Selected Treatment\")\r\n",
    "plt.xlabel(\"Drug Regimen\")\r\n",
    "plt.ylabel(\"Final Tumor Volume (mm3)\")\r\n",
    "plt.boxplot(tumor_vol, labels = treatment_list, widths = 0.5)\r\n",
    "plt.tight_layout()\r\n",
    "plt.show()"
   ],
   "outputs": [],
   "metadata": {}
  },
  {
   "cell_type": "markdown",
   "source": [
    "## Line and Scatter Plots"
   ],
   "metadata": {}
  },
  {
   "cell_type": "code",
   "execution_count": null,
   "source": [
    "# Generate a line plot of time point versus tumor volume for a mouse treated with Capomulin\r\n",
    "capomulin_df_drop_dup = capomulin_df.drop_duplicates(subset = \"Mouse ID\", keep = \"last\")\r\n",
    "\r\n",
    "mouse = capomulin_df.sample()\r\n",
    "picked_mouse = mouse.iloc[0].at[\"Mouse ID\"]\r\n",
    "\r\n",
    "line_plot_df = capomulin_df.loc[capomulin_df[\"Mouse ID\"] == picked_mouse]\r\n",
    "\r\n",
    "x_axis = line_plot_df[\"Timepoint\"]\r\n",
    "y_axis = line_plot_df[\"Tumor Volume (mm3)\"]\r\n",
    "\r\n",
    "fig1, ax1 = plt.subplots()\r\n",
    "plt.title(\"Capomulin treatment of mouse %s\" % picked_mouse)\r\n",
    "plt.plot(x_axis, y_axis, linewidth = 2, markersize = 15, color = \"purple\")\r\n",
    "plt.xlabel(\"Timepoint (Days)\")\r\n",
    "plt.ylabel(\"Tumor Volume (mm3)\")\r\n",
    "coef = np.polyfit(x_axis, y_axis, 1)\r\n",
    "poly1d_fn = np.poly1d(coef) \r\n",
    "plt.plot(x_axis, y_axis, x_axis, poly1d_fn(x_axis), \"--k\")\r\n",
    "plt.tight_layout()\r\n",
    "plt.show()"
   ],
   "outputs": [],
   "metadata": {}
  },
  {
   "cell_type": "code",
   "execution_count": null,
   "source": [
    "# Generate a scatter plot of mouse weight versus average tumor volume for the Capomulin regimen\r\n",
    "capomulin_df_mean = capomulin_df.groupby([\"Mouse ID\"]).mean()\r\n",
    "plt.scatter(capomulin_df_mean[\"Weight (g)\"], capomulin_df_mean[\"Tumor Volume (mm3)\"], color = \"purple\")\r\n",
    "plt.title(\"Mouse Weight Versus Average Tumor Volume\")\r\n",
    "plt.xlabel(\"Weight (g)\")\r\n",
    "plt.ylabel(\"Tumor Volume (mm3)\")\r\n",
    "plt.tight_layout()\r\n",
    "plt.show()"
   ],
   "outputs": [],
   "metadata": {}
  },
  {
   "cell_type": "markdown",
   "source": [
    "## Correlation and Regression"
   ],
   "metadata": {}
  },
  {
   "cell_type": "code",
   "execution_count": null,
   "source": [
    "color = \"orange\"\r\n",
    "\r\n",
    "# Calculate the correlation coefficient and linear regression model\r\n",
    "corr = st.pearsonr(capomulin_df_mean[\"Weight (g)\"], capomulin_df_mean[\"Tumor Volume (mm3)\"])\r\n",
    "(slope, intercept, rvalue, pvalue, stderr) = linregress(capomulin_df_mean[\"Weight (g)\"], capomulin_df_mean[\"Tumor Volume (mm3)\"])\r\n",
    "regress_values = capomulin_df_mean[\"Weight (g)\"] * slope + intercept\r\n",
    "line_eq = f\"y = {round(slope, 2)} x + {round(intercept, 2)}\"\r\n",
    "\r\n",
    "# for mouse weight and average tumor volume for the Capomulin regimen\r\n",
    "plt.scatter(capomulin_df_mean[\"Weight (g)\"], capomulin_df_mean[\"Tumor Volume (mm3)\"], color = \"purple\")\r\n",
    "plt.plot(capomulin_df_mean[\"Weight (g)\"], regress_values, color = color)\r\n",
    "plt.annotate(line_eq, (21, 36), fontsize = 12, color = color)\r\n",
    "plt.title(\"Mouse Weight Versus Average Tumor Volume\")\r\n",
    "plt.xlabel(\"Weight (g)\")\r\n",
    "plt.ylabel(\"Tumor Volume (mm3)\")\r\n",
    "plt.tight_layout()\r\n",
    "plt.show()"
   ],
   "outputs": [],
   "metadata": {}
  },
  {
   "cell_type": "code",
   "execution_count": null,
   "source": [],
   "outputs": [],
   "metadata": {}
  }
 ],
 "metadata": {
  "anaconda-cloud": {},
  "kernelspec": {
   "name": "python3",
   "display_name": "Python 3.8.8 64-bit (conda)"
  },
  "language_info": {
   "codemirror_mode": {
    "name": "ipython",
    "version": 3
   },
   "file_extension": ".py",
   "mimetype": "text/x-python",
   "name": "python",
   "nbconvert_exporter": "python",
   "pygments_lexer": "ipython3",
   "version": "3.8.8"
  },
  "interpreter": {
   "hash": "2e2cd90bb6e7597dd778533c526b910590dfd45b07af246f96b8485552741734"
  }
 },
 "nbformat": 4,
 "nbformat_minor": 2
}